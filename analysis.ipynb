{
 "cells": [
  {
   "cell_type": "code",
   "execution_count": 49,
   "id": "74a69467",
   "metadata": {},
   "outputs": [],
   "source": [
    "import pandas as pd\n",
    "from pathlib import Path\n",
    "import scipy.stats as stats\n",
    "import numpy as np"
   ]
  },
  {
   "cell_type": "code",
   "execution_count": 50,
   "id": "a543591b",
   "metadata": {},
   "outputs": [],
   "source": [
    "def get_data():\n",
    "    data = pd.read_csv(\"POSE.csv\", index_col=0, parse_dates=[\"DATE.INDUC\", \"DATE.DEATH\", \"DATE.DEATH.BIS\"])\n",
    "    data = data.loc[~data[\"HEMOGLOBINE_PREOP\"].isna().values]\n",
    "    print(f\"There are {len(data)} patients with given Hb\")\n",
    "    return data"
   ]
  },
  {
   "cell_type": "code",
   "execution_count": 51,
   "id": "72631a12",
   "metadata": {},
   "outputs": [],
   "source": [
    "def set_alive(data, death_column=\"DATE.DEATH\"):\n",
    "    data[\"ALIVE\"] = pd.Series(np.nan, index=data.index)\n",
    "    alive_yes = data.loc[(data[\"ALIVE.J30\"] == \"OUI\").values].index\n",
    "    alive_no = data.loc[(data[\"ALIVE.J30\"] == \"NON\").values].index\n",
    "    print(f\"There are {len(alive_yes)} patients that are still alive\")\n",
    "    print(f\"There are {len(alive_no)} patients that are dead\")\n",
    "    data.loc[alive_yes, \"ALIVE\"] = 1\n",
    "    data.loc[alive_no, \"ALIVE\"] = 0\n",
    "    dead_date = [x.days <= 30 for x in (data[\"DATE.DEATH\"] - data[\"DATE.INDUC\"])]\n",
    "    print(f\"We found {dead_date.count(True)} dead patients from their date information\")\n",
    "    data.loc[dead_date, \"ALIVE\"] = 0\n",
    "    alive_date = [x.days > 30 for x in (data[death_column] - data[\"DATE.INDUC\"])]\n",
    "    print(f\"We found {alive_date.count(True)} alive patients from their date information\")\n",
    "    data.loc[alive_date, \"ALIVE\"] = 1\n",
    "    nalive = len(data[data[\"ALIVE\"] == 1])\n",
    "    ndead = len(data[data[\"ALIVE\"] == 0])\n",
    "    print(f\"Total : {nalive} alive and {ndead} dead\")\n",
    "    return data"
   ]
  },
  {
   "cell_type": "code",
   "execution_count": 58,
   "id": "c3b44a3c",
   "metadata": {},
   "outputs": [],
   "source": [
    "def set_anemia(data):\n",
    "    data[\"ANEMIE\"] = pd.Series(0, index=data.index)\n",
    "    idx_female = data[data[\"SEXE\"] == \"Female\"].index\n",
    "    idx_male = data[data[\"SEXE\"] == \"Male\"].index\n",
    "    anemique_female_index = data.loc[idx_female].loc[(data.loc[idx_female, \"HEMOGLOBINE_PREOP\"] < 12.0).values].index\n",
    "    anemique_male_index = data.loc[idx_male].loc[(data.loc[idx_male, \"HEMOGLOBINE_PREOP\"] < 13.0).values].index\n",
    "    print(f\"There are {len(anemique_female_index) + len(anemique_male_index)} anaemic patients\")\n",
    "    data.loc[anemique_female_index, \"ANEMIE\"] = 1\n",
    "    data.loc[anemique_male_index, \"ANEMIE\"] = 1\n",
    "    return data"
   ]
  },
  {
   "cell_type": "code",
   "execution_count": 62,
   "id": "7c2557b1",
   "metadata": {},
   "outputs": [],
   "source": [
    "def get_fisher_df(data):\n",
    "    df = pd.DataFrame(columns=[\"Alive\", \"Dead\"], index=[\"Anaemic\", \"Not Anaemic\"])\n",
    "    df.loc[\"Not Anaemic\", \"Dead\"] = len(data.loc[((data[\"ALIVE\"] == 0) & (data[\"ANEMIE\"] == 0)).values])\n",
    "    df.loc[\"Anaemic\", \"Dead\"] = len(data.loc[((data[\"ALIVE\"] == 0) & (data[\"ANEMIE\"] == 1)).values])\n",
    "    df.loc[\"Anaemic\", \"Alive\"] = len(data.loc[((data[\"ALIVE\"] == 1) & (data[\"ANEMIE\"] == 1)).values])\n",
    "    df.loc[\"Not Anaemic\", \"Alive\"] = len(data.loc[((data[\"ALIVE\"] == 1) & (data[\"ANEMIE\"] == 0)).values])\n",
    "    return df"
   ]
  },
  {
   "cell_type": "code",
   "execution_count": 63,
   "id": "34584b97",
   "metadata": {},
   "outputs": [
    {
     "name": "stdout",
     "output_type": "stream",
     "text": [
      "There are 1445 patients with given Hb\n"
     ]
    }
   ],
   "source": [
    "df = get_data()"
   ]
  },
  {
   "cell_type": "code",
   "execution_count": 64,
   "id": "e3f7de1d",
   "metadata": {},
   "outputs": [
    {
     "name": "stdout",
     "output_type": "stream",
     "text": [
      "There are 1239 patients that are still alive\n",
      "There are 7 patients that are dead\n",
      "We found 38 dead patients from their date information\n",
      "We found 0 alive patients from their date information\n",
      "Total : 1239 alive and 39 dead\n"
     ]
    }
   ],
   "source": [
    "df = set_alive(df)"
   ]
  },
  {
   "cell_type": "code",
   "execution_count": 65,
   "id": "13e1c6f8",
   "metadata": {},
   "outputs": [
    {
     "name": "stdout",
     "output_type": "stream",
     "text": [
      "There are 638 anaemic patients\n"
     ]
    }
   ],
   "source": [
    "df = set_anemia(df)"
   ]
  },
  {
   "cell_type": "code",
   "execution_count": 66,
   "id": "78257003",
   "metadata": {},
   "outputs": [],
   "source": [
    "df_for_fisher = get_fisher_df(data)"
   ]
  },
  {
   "cell_type": "code",
   "execution_count": 67,
   "id": "0717012a",
   "metadata": {},
   "outputs": [
    {
     "data": {
      "text/plain": [
       "array([[517, 6],\n",
       "       [722, 1]], dtype=object)"
      ]
     },
     "execution_count": 67,
     "metadata": {},
     "output_type": "execute_result"
    }
   ],
   "source": [
    "df_for_fisher.values"
   ]
  },
  {
   "cell_type": "code",
   "execution_count": 69,
   "id": "5461676c",
   "metadata": {},
   "outputs": [],
   "source": [
    "onetaile_p, twtail_p = stats.fisher_exact(df_for_fisher)"
   ]
  },
  {
   "cell_type": "code",
   "execution_count": null,
   "id": "2a2247b8",
   "metadata": {},
   "outputs": [],
   "source": []
  }
 ],
 "metadata": {
  "kernelspec": {
   "display_name": "these_marine",
   "language": "python",
   "name": "these_marine"
  },
  "language_info": {
   "codemirror_mode": {
    "name": "ipython",
    "version": 3
   },
   "file_extension": ".py",
   "mimetype": "text/x-python",
   "name": "python",
   "nbconvert_exporter": "python",
   "pygments_lexer": "ipython3",
   "version": "3.8.0"
  }
 },
 "nbformat": 4,
 "nbformat_minor": 5
}
